{
  "nbformat": 4,
  "nbformat_minor": 0,
  "metadata": {
    "colab": {
      "provenance": []
    },
    "kernelspec": {
      "name": "python3",
      "display_name": "Python 3"
    },
    "language_info": {
      "name": "python"
    }
  },
  "cells": [
    {
      "cell_type": "code",
      "execution_count": null,
      "metadata": {
        "colab": {
          "base_uri": "https://localhost:8080/"
        },
        "id": "i2mjw53RxIMe",
        "outputId": "ec1c05dd-444c-4c91-dcc2-a42c92dbf028"
      },
      "outputs": [
        {
          "output_type": "stream",
          "name": "stdout",
          "text": [
            "Collecting together\n",
            "  Downloading together-1.5.7-py3-none-any.whl.metadata (15 kB)\n",
            "Collecting PyMuPDF\n",
            "  Downloading pymupdf-1.25.5-cp39-abi3-manylinux2014_x86_64.manylinux_2_17_x86_64.whl.metadata (3.4 kB)\n",
            "Collecting tiktoken\n",
            "  Downloading tiktoken-0.9.0-cp311-cp311-manylinux_2_17_x86_64.manylinux2014_x86_64.whl.metadata (6.7 kB)\n",
            "Requirement already satisfied: pandas in /usr/local/lib/python3.11/dist-packages (2.2.2)\n",
            "Requirement already satisfied: aiohttp<4.0.0,>=3.9.3 in /usr/local/lib/python3.11/dist-packages (from together) (3.11.15)\n",
            "Requirement already satisfied: click<9.0.0,>=8.1.7 in /usr/local/lib/python3.11/dist-packages (from together) (8.1.8)\n",
            "Collecting eval-type-backport<0.3.0,>=0.1.3 (from together)\n",
            "  Downloading eval_type_backport-0.2.2-py3-none-any.whl.metadata (2.2 kB)\n",
            "Requirement already satisfied: filelock<4.0.0,>=3.13.1 in /usr/local/lib/python3.11/dist-packages (from together) (3.18.0)\n",
            "Requirement already satisfied: numpy>=1.23.5 in /usr/local/lib/python3.11/dist-packages (from together) (2.0.2)\n",
            "Requirement already satisfied: pillow<12.0.0,>=11.1.0 in /usr/local/lib/python3.11/dist-packages (from together) (11.2.1)\n",
            "Requirement already satisfied: pyarrow>=10.0.1 in /usr/local/lib/python3.11/dist-packages (from together) (18.1.0)\n",
            "Requirement already satisfied: pydantic<3.0.0,>=2.6.3 in /usr/local/lib/python3.11/dist-packages (from together) (2.11.3)\n",
            "Requirement already satisfied: requests<3.0.0,>=2.31.0 in /usr/local/lib/python3.11/dist-packages (from together) (2.32.3)\n",
            "Requirement already satisfied: rich<15.0.0,>=13.8.1 in /usr/local/lib/python3.11/dist-packages (from together) (13.9.4)\n",
            "Requirement already satisfied: tabulate<0.10.0,>=0.9.0 in /usr/local/lib/python3.11/dist-packages (from together) (0.9.0)\n",
            "Requirement already satisfied: tqdm<5.0.0,>=4.66.2 in /usr/local/lib/python3.11/dist-packages (from together) (4.67.1)\n",
            "Requirement already satisfied: typer<0.16,>=0.9 in /usr/local/lib/python3.11/dist-packages (from together) (0.15.3)\n",
            "Requirement already satisfied: regex>=2022.1.18 in /usr/local/lib/python3.11/dist-packages (from tiktoken) (2024.11.6)\n",
            "Requirement already satisfied: python-dateutil>=2.8.2 in /usr/local/lib/python3.11/dist-packages (from pandas) (2.9.0.post0)\n",
            "Requirement already satisfied: pytz>=2020.1 in /usr/local/lib/python3.11/dist-packages (from pandas) (2025.2)\n",
            "Requirement already satisfied: tzdata>=2022.7 in /usr/local/lib/python3.11/dist-packages (from pandas) (2025.2)\n",
            "Requirement already satisfied: aiohappyeyeballs>=2.3.0 in /usr/local/lib/python3.11/dist-packages (from aiohttp<4.0.0,>=3.9.3->together) (2.6.1)\n",
            "Requirement already satisfied: aiosignal>=1.1.2 in /usr/local/lib/python3.11/dist-packages (from aiohttp<4.0.0,>=3.9.3->together) (1.3.2)\n",
            "Requirement already satisfied: attrs>=17.3.0 in /usr/local/lib/python3.11/dist-packages (from aiohttp<4.0.0,>=3.9.3->together) (25.3.0)\n",
            "Requirement already satisfied: frozenlist>=1.1.1 in /usr/local/lib/python3.11/dist-packages (from aiohttp<4.0.0,>=3.9.3->together) (1.6.0)\n",
            "Requirement already satisfied: multidict<7.0,>=4.5 in /usr/local/lib/python3.11/dist-packages (from aiohttp<4.0.0,>=3.9.3->together) (6.4.3)\n",
            "Requirement already satisfied: propcache>=0.2.0 in /usr/local/lib/python3.11/dist-packages (from aiohttp<4.0.0,>=3.9.3->together) (0.3.1)\n",
            "Requirement already satisfied: yarl<2.0,>=1.17.0 in /usr/local/lib/python3.11/dist-packages (from aiohttp<4.0.0,>=3.9.3->together) (1.20.0)\n",
            "Requirement already satisfied: annotated-types>=0.6.0 in /usr/local/lib/python3.11/dist-packages (from pydantic<3.0.0,>=2.6.3->together) (0.7.0)\n",
            "Requirement already satisfied: pydantic-core==2.33.1 in /usr/local/lib/python3.11/dist-packages (from pydantic<3.0.0,>=2.6.3->together) (2.33.1)\n",
            "Requirement already satisfied: typing-extensions>=4.12.2 in /usr/local/lib/python3.11/dist-packages (from pydantic<3.0.0,>=2.6.3->together) (4.13.2)\n",
            "Requirement already satisfied: typing-inspection>=0.4.0 in /usr/local/lib/python3.11/dist-packages (from pydantic<3.0.0,>=2.6.3->together) (0.4.0)\n",
            "Requirement already satisfied: six>=1.5 in /usr/local/lib/python3.11/dist-packages (from python-dateutil>=2.8.2->pandas) (1.17.0)\n",
            "Requirement already satisfied: charset-normalizer<4,>=2 in /usr/local/lib/python3.11/dist-packages (from requests<3.0.0,>=2.31.0->together) (3.4.1)\n",
            "Requirement already satisfied: idna<4,>=2.5 in /usr/local/lib/python3.11/dist-packages (from requests<3.0.0,>=2.31.0->together) (3.10)\n",
            "Requirement already satisfied: urllib3<3,>=1.21.1 in /usr/local/lib/python3.11/dist-packages (from requests<3.0.0,>=2.31.0->together) (2.4.0)\n",
            "Requirement already satisfied: certifi>=2017.4.17 in /usr/local/lib/python3.11/dist-packages (from requests<3.0.0,>=2.31.0->together) (2025.4.26)\n",
            "Requirement already satisfied: markdown-it-py>=2.2.0 in /usr/local/lib/python3.11/dist-packages (from rich<15.0.0,>=13.8.1->together) (3.0.0)\n",
            "Requirement already satisfied: pygments<3.0.0,>=2.13.0 in /usr/local/lib/python3.11/dist-packages (from rich<15.0.0,>=13.8.1->together) (2.19.1)\n",
            "Requirement already satisfied: shellingham>=1.3.0 in /usr/local/lib/python3.11/dist-packages (from typer<0.16,>=0.9->together) (1.5.4)\n",
            "Requirement already satisfied: mdurl~=0.1 in /usr/local/lib/python3.11/dist-packages (from markdown-it-py>=2.2.0->rich<15.0.0,>=13.8.1->together) (0.1.2)\n",
            "Downloading together-1.5.7-py3-none-any.whl (88 kB)\n",
            "\u001b[2K   \u001b[90m━━━━━━━━━━━━━━━━━━━━━━━━━━━━━━━━━━━━━━━━\u001b[0m \u001b[32m89.0/89.0 kB\u001b[0m \u001b[31m5.7 MB/s\u001b[0m eta \u001b[36m0:00:00\u001b[0m\n",
            "\u001b[?25hDownloading pymupdf-1.25.5-cp39-abi3-manylinux2014_x86_64.manylinux_2_17_x86_64.whl (20.0 MB)\n",
            "\u001b[2K   \u001b[90m━━━━━━━━━━━━━━━━━━━━━━━━━━━━━━━━━━━━━━━━\u001b[0m \u001b[32m20.0/20.0 MB\u001b[0m \u001b[31m95.0 MB/s\u001b[0m eta \u001b[36m0:00:00\u001b[0m\n",
            "\u001b[?25hDownloading tiktoken-0.9.0-cp311-cp311-manylinux_2_17_x86_64.manylinux2014_x86_64.whl (1.2 MB)\n",
            "\u001b[2K   \u001b[90m━━━━━━━━━━━━━━━━━━━━━━━━━━━━━━━━━━━━━━━━\u001b[0m \u001b[32m1.2/1.2 MB\u001b[0m \u001b[31m53.3 MB/s\u001b[0m eta \u001b[36m0:00:00\u001b[0m\n",
            "\u001b[?25hDownloading eval_type_backport-0.2.2-py3-none-any.whl (5.8 kB)\n",
            "Installing collected packages: PyMuPDF, eval-type-backport, tiktoken, together\n",
            "Successfully installed PyMuPDF-1.25.5 eval-type-backport-0.2.2 tiktoken-0.9.0 together-1.5.7\n"
          ]
        }
      ],
      "source": [
        "pip install together PyMuPDF tiktoken pandas"
      ]
    },
    {
      "cell_type": "code",
      "source": [
        "import fitz  # PyMuPDF\n",
        "import tiktoken\n",
        "\n",
        "def extract_text_from_pdf(pdf_path):\n",
        "    \"\"\"Extracts text from a PDF file.\"\"\"\n",
        "    doc = fitz.open(pdf_path)\n",
        "    text = \"\"\n",
        "    for page in doc:\n",
        "        text += page.get_text(\"text\") + \"\\n\"\n",
        "    return text\n",
        "\n",
        "def chunk_text(text, chunk_size=1000):\n",
        "    \"\"\"Splits text into manageable chunks based on token limits.\"\"\"\n",
        "    tokenizer = tiktoken.get_encoding(\"cl100k_base\")  # OpenAI tokenizer\n",
        "    tokens = tokenizer.encode(text)\n",
        "\n",
        "    chunks = []\n",
        "    for i in range(0, len(tokens), chunk_size):\n",
        "        chunk = tokens[i:i+chunk_size]\n",
        "        chunks.append(tokenizer.decode(chunk))\n",
        "\n",
        "    return chunks\n",
        "\n",
        "# Extract and split PDF text\n",
        "pdf_path = \"/content/data.pdf\"\n",
        "extracted_text = extract_text_from_pdf(pdf_path)\n",
        "text_chunks = chunk_text(extracted_text, chunk_size=1000)\n",
        "\n",
        "print(f\"PDF split into {len(text_chunks)} chunks.\")\n"
      ],
      "metadata": {
        "colab": {
          "base_uri": "https://localhost:8080/"
        },
        "id": "nwZQOtunx1rX",
        "outputId": "a217f15d-3604-43fd-f584-a79a2a6867e6"
      },
      "execution_count": null,
      "outputs": [
        {
          "output_type": "stream",
          "name": "stdout",
          "text": [
            "PDF split into 30 chunks.\n"
          ]
        }
      ]
    },
    {
      "cell_type": "code",
      "source": [
        "college_data_chunks = {i: chunk for i, chunk in enumerate(text_chunks)}\n",
        "\n",
        "# Save for future use\n",
        "import pickle\n",
        "\n",
        "with open(\"justice_model.pkl\", \"wb\") as f:\n",
        "    pickle.dump(college_data_chunks, f)\n",
        "\n",
        "print(\"Justice data saved in chunks for retrieval.\")"
      ],
      "metadata": {
        "colab": {
          "base_uri": "https://localhost:8080/"
        },
        "id": "ZvmA_pIQl3am",
        "outputId": "86209767-6ed6-472e-da98-bbbdd67ddd65"
      },
      "execution_count": null,
      "outputs": [
        {
          "output_type": "stream",
          "name": "stdout",
          "text": [
            "Justice data saved in chunks for retrieval.\n"
          ]
        }
      ]
    },
    {
      "cell_type": "code",
      "source": [
        "import json\n",
        "from together import Together\n",
        "import fitz  # PyMuPDF\n",
        "\n",
        "# Load and chunk the Justice PDF\n",
        "def extract_pdf_chunks(pdf_path, chunk_size=1000):\n",
        "    doc = fitz.open(pdf_path)\n",
        "    full_text = \"\"\n",
        "    for page in doc:\n",
        "        full_text += page.get_text()\n",
        "\n",
        "    # Split into chunks of `chunk_size` characters\n",
        "    return [full_text[i:i+chunk_size] for i in range(0, len(full_text), chunk_size)]\n",
        "\n",
        "# Extracted chunks from the justice report\n",
        "college_data_chunks = extract_pdf_chunks(\"data.pdf\")\n",
        "\n",
        "# Initialize Together API client\n",
        "client = Together(api_key=\"8171eae9a74b4d63a72d2b802c4c13105e8daba6b173fd0e6ca5bbcef9bc1e4d\")  # Replace with your actual API key\n",
        "\n",
        "# Retrieval function\n",
        "def retrieve_relevant_chunk(query):\n",
        "    relevant_chunks = []\n",
        "    for chunk in college_data_chunks:\n",
        "        if query.lower() in chunk.lower():\n",
        "            relevant_chunks.append(chunk)\n",
        "    return \" \".join(relevant_chunks[:3])  # Limit to 3 chunks\n",
        "\n",
        "# Main query function\n",
        "def query_justice_report(query):\n",
        "    relevant_data = retrieve_relevant_chunk(query)\n",
        "\n",
        "    prompt = f\"\"\"\n",
        "    You are an expert in Indian judicial governance. A user asked: \"{query}\"\n",
        "\n",
        "    Here is relevant context from an official government document:\n",
        "    {relevant_data}\n",
        "\n",
        "    Based on the above, provide a clear and concise answer.\n",
        "    \"\"\"\n",
        "\n",
        "    response = client.chat.completions.create(\n",
        "        model=\"meta-llama/Llama-3.3-70B-Instruct-Turbo\",\n",
        "        messages=[{\"role\": \"user\", \"content\": prompt}],\n",
        "    )\n",
        "\n",
        "    return response.choices[0].message.content.strip()\n",
        "\n",
        "# Example usage\n",
        "user_query = \"What is the role of Department of Justice in judicial appointments?\"\n",
        "print(query_justice_report(user_query))"
      ],
      "metadata": {
        "colab": {
          "base_uri": "https://localhost:8080/"
        },
        "id": "2BEQLFi9nfNR",
        "outputId": "c3782c94-0ae2-49f8-9778-a894bd4afe8d"
      },
      "execution_count": null,
      "outputs": [
        {
          "output_type": "stream",
          "name": "stdout",
          "text": [
            "The Department of Justice plays a crucial role in the judicial appointments process in India. Although the specific context is not provided, generally, the Department of Justice is responsible for facilitating the appointment of judges to the higher judiciary, including the Supreme Court and High Courts.\n",
            "\n",
            "The Department's role typically involves:\n",
            "\n",
            "1. Processing recommendations: The Department receives recommendations from the Supreme Court Collegium or High Court Collegiums for appointments.\n",
            "2. Verifying credentials: It verifies the credentials, antecedents, and suitability of the recommended candidates.\n",
            "3. Obtaining IB reports: The Department obtains reports from the Intelligence Bureau (IB) on the candidates, which are then considered by the Collegium.\n",
            "4. Coordination with Ministries: The Department coordinates with other Ministries, such as the Ministry of Law and Justice, to ensure a smooth appointment process.\n",
            "5. Notification of appointments: Once the appointments are finalized, the Department issues notifications to formalize the appointments.\n",
            "\n",
            "Overall, the Department of Justice acts as a facilitator and coordinator in the judicial appointments process, ensuring that the process is carried out in a fair, transparent, and efficient manner.\n"
          ]
        }
      ]
    },
    {
      "cell_type": "code",
      "source": [
        "import json\n",
        "from together import Together\n",
        "\n",
        "# Load justice data from JSON file\n",
        "with open(\"justice_data.json\", \"r\") as f:\n",
        "    justice_data = json.load(f)\n",
        "\n",
        "# Initialize Together API client\n",
        "client = Together(api_key=\"8171eae9a74b4d63a72d2b802c4c13105e8daba6b173fd0e6ca5bbcef9bc1e4d\")  # Replace with your API key\n",
        "\n",
        "# Retrieve matching chunks from JSON content\n",
        "def retrieve_relevant_chunk(query):\n",
        "    relevant_chunks = []\n",
        "\n",
        "    for topic, entries in justice_data.items():\n",
        "        for item in entries:\n",
        "            if query.lower() in item.lower() or query.lower() in topic.lower():\n",
        "                relevant_chunks.append(f\"{topic}: {item}\")\n",
        "\n",
        "    return \" \".join(relevant_chunks[:5])  # Limit to 5 matching entries\n",
        "\n",
        "# Query function using Together's LLM\n",
        "def query_justice_json(query):\n",
        "    relevant_data = retrieve_relevant_chunk(query)\n",
        "\n",
        "    prompt = f\"\"\"\n",
        "    You are a legal expert familiar with India's Department of Justice.\n",
        "\n",
        "    Based on the following official information:\n",
        "    {relevant_data}\n",
        "\n",
        "    Answer the user's query: \"{query}\"\n",
        "    \"\"\"\n",
        "\n",
        "    response = client.chat.completions.create(\n",
        "        model=\"meta-llama/Llama-3.3-70B-Instruct-Turbo\",\n",
        "        messages=[{\"role\": \"user\", \"content\": prompt}],\n",
        "    )\n",
        "\n",
        "    return response.choices[0].message.content.strip()\n",
        "\n",
        "# Example usage\n",
        "user_query = \"What are the guidelines for e-filing court documents?\"\n",
        "print(query_justice_json(user_query))"
      ],
      "metadata": {
        "colab": {
          "base_uri": "https://localhost:8080/"
        },
        "id": "Y-ZEwTQ1CpB8",
        "outputId": "84ecb114-a43e-4279-8589-6d767abb0a5f"
      },
      "execution_count": null,
      "outputs": [
        {
          "output_type": "stream",
          "name": "stdout",
          "text": [
            "The guidelines for e-filing court documents in India are outlined by the Department of Justice and the respective courts. Here are the general guidelines:\n",
            "\n",
            "1. **Registration**: To e-file court documents, you need to register on the court's website or the National Judicial Data Grid (NJDG) portal. You will need to provide basic information such as name, email ID, mobile number, and password.\n",
            "2. **Document Preparation**: Ensure that the documents to be e-filed are in the prescribed format and contain all the necessary information. The documents should be scanned and saved in PDF format.\n",
            "3. **Filing Fees**: Pay the required filing fees online through the court's website or the NJDG portal. The fees can be paid using credit/debit cards, net banking, or other online payment modes.\n",
            "4. **E-Filing Process**: Log in to the court's website or the NJDG portal and select the option for e-filing. Fill in the required details, upload the documents, and pay the filing fees.\n",
            "5. **Verification**: After e-filing, verify that the documents have been successfully uploaded and the filing fees have been paid. You will receive an acknowledgement receipt, which should be preserved for future reference.\n",
            "6. **Digital Signature**: In some cases, the court may require a digital signature on the e-filed documents. You can obtain a digital signature certificate from a certified authority.\n",
            "7. **Technical Requirements**: Ensure that your computer or mobile device meets the technical requirements for e-filing, such as compatible browser, internet connection, and PDF reader.\n",
            "\n",
            "Some important points to note:\n",
            "\n",
            "* **Court-specific guidelines**: Each court may have its own set of guidelines and rules for e-filing. It is essential to check the court's website or consult with the court staff to understand the specific requirements.\n",
            "* **Document size and format**: Ensure that the documents are in the prescribed format and size. Large documents may need to be split into smaller files or compressed.\n",
            "* **Security and confidentiality**: E-filed documents are stored securely on the court's server. However, it is essential to ensure that sensitive information is not shared or disclosed to unauthorized persons.\n",
            "\n",
            "For more detailed information and specific guidelines, you can visit the website of the Department of Justice, the National Judicial Data Grid (NJDG), or the respective court's website.\n"
          ]
        }
      ]
    }
  ]
}